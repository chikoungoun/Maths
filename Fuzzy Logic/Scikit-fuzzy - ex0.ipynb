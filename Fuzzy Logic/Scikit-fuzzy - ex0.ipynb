{
 "cells": [
  {
   "cell_type": "markdown",
   "id": "17416d6a",
   "metadata": {},
   "source": [
    "https://github.com/caigen/scikit-fuzzy-examples/tree/master"
   ]
  },
  {
   "cell_type": "code",
   "execution_count": 1,
   "id": "791a2e2d",
   "metadata": {},
   "outputs": [],
   "source": [
    "import numpy as np\n",
    "import skfuzzy as fuzz\n",
    "from matplotlib import pyplot as plt"
   ]
  },
  {
   "cell_type": "code",
   "execution_count": 17,
   "id": "c14e6b74",
   "metadata": {},
   "outputs": [
    {
     "data": {
      "text/plain": [
       "array([ 0,  1,  2,  3,  4,  5,  6,  7,  8,  9, 10])"
      ]
     },
     "execution_count": 17,
     "metadata": {},
     "output_type": "execute_result"
    }
   ],
   "source": [
    "# X axis\n",
    "x = np.arange(11)\n",
    "x"
   ]
  },
  {
   "cell_type": "markdown",
   "id": "a0f20c19",
   "metadata": {},
   "source": [
    "**Membership function**\n",
    "\n",
    "fuzz.trimf(x,abc) : Triangular membership function generator.  \n",
    "- x axis\n",
    "- abc : 3 elements vector; length 3; a<=b<=c"
   ]
  },
  {
   "cell_type": "code",
   "execution_count": 24,
   "id": "bad21b2d",
   "metadata": {},
   "outputs": [],
   "source": [
    "# Y axis\n",
    "mfx = fuzz.trimf(x,[0,5,10])"
   ]
  },
  {
   "cell_type": "code",
   "execution_count": 25,
   "id": "edb13931",
   "metadata": {},
   "outputs": [
    {
     "name": "stdout",
     "output_type": "stream",
     "text": [
      "[ 0  1  2  3  4  5  6  7  8  9 10]\n",
      "[0.  0.2 0.4 0.6 0.8 1.  0.8 0.6 0.4 0.2 0. ]\n"
     ]
    }
   ],
   "source": [
    "print(x)\n",
    "print(mfx)"
   ]
  },
  {
   "cell_type": "code",
   "execution_count": 26,
   "id": "6c97f30c",
   "metadata": {},
   "outputs": [
    {
     "data": {
      "image/png": "[encoded data removed]",
      "text/plain": [
       "<Figure size 432x288 with 1 Axes>"
      ]
     },
     "metadata": {
      "needs_background": "light"
     },
     "output_type": "display_data"
    }
   ],
   "source": [
    "plt.title('Fuzzy Membership Function')\n",
    "plt.plot(x,mfx)\n",
    "plt.show()"
   ]
  },
  {
   "cell_type": "code",
   "execution_count": null,
   "id": "c74f3de7",
   "metadata": {},
   "outputs": [],
   "source": [
    "fuzz.tr"
   ]
  }
 ],
 "metadata": {
  "kernelspec": {
   "display_name": "Python 3 (ipykernel)",
   "language": "python",
   "name": "python3"
  },
  "language_info": {
   "codemirror_mode": {
    "name": "ipython",
    "version": 3
   },
   "file_extension": ".py",
   "mimetype": "text/x-python",
   "name": "python",
   "nbconvert_exporter": "python",
   "pygments_lexer": "ipython3",
   "version": "3.8.2"
  }
 },
 "nbformat": 4,
 "nbformat_minor": 5
}
