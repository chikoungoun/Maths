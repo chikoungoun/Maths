{
 "cells": [
  {
   "cell_type": "markdown",
   "id": "bb88f5f6",
   "metadata": {},
   "source": [
    "https://github.com/caigen/scikit-fuzzy-examples/blob/master/1-membership-function.py"
   ]
  },
  {
   "cell_type": "code",
   "execution_count": 2,
   "id": "be38aa0c",
   "metadata": {},
   "outputs": [],
   "source": [
    "import numpy as np\n",
    "import skfuzzy as fuzz\n",
    "from matplotlib import pyplot as plt"
   ]
  },
  {
   "cell_type": "code",
   "execution_count": 4,
   "id": "2c54d0d5",
   "metadata": {},
   "outputs": [
    {
     "name": "stdout",
     "output_type": "stream",
     "text": [
      "[ 0.    0.25  0.5   0.75  1.    1.25  1.5   1.75  2.    2.25  2.5   2.75\n",
      "  3.    3.25  3.5   3.75  4.    4.25  4.5   4.75  5.    5.25  5.5   5.75\n",
      "  6.    6.25  6.5   6.75  7.    7.25  7.5   7.75  8.    8.25  8.5   8.75\n",
      "  9.    9.25  9.5   9.75 10.  ]\n",
      "41\n"
     ]
    }
   ],
   "source": [
    "start = 0\n",
    "stop = 10 + 0.001\n",
    "step = 0.25\n",
    "x = np.arange(start, stop, step)\n",
    "print(x)\n",
    "print(len(x))"
   ]
  },
  {
   "cell_type": "code",
   "execution_count": 27,
   "id": "896aaeb5",
   "metadata": {},
   "outputs": [
    {
     "data": {
      "text/plain": [
       "<Figure size 691.2x518.4 with 0 Axes>"
      ]
     },
     "execution_count": 27,
     "metadata": {},
     "output_type": "execute_result"
    },
    {
     "data": {
      "text/plain": [
       "<Figure size 691.2x518.4 with 0 Axes>"
      ]
     },
     "metadata": {},
     "output_type": "display_data"
    }
   ],
   "source": [
    "fig_scale = 1.5\n",
    "plt.figure(figsize=(6.4 * fig_scale, 4.8*fig_scale))"
   ]
  },
  {
   "cell_type": "code",
   "execution_count": 28,
   "id": "93c71940",
   "metadata": {},
   "outputs": [],
   "source": [
    "# Triangular membership function\n",
    "trimf = fuzz.trimf(x,[0,5,10])"
   ]
  },
  {
   "cell_type": "markdown",
   "id": "20b1255d",
   "metadata": {},
   "source": [
    "**Trapezoidal membership function**\n",
    "- x : independent variable\n",
    "- abcd : a <= b <= c <= d"
   ]
  },
  {
   "cell_type": "code",
   "execution_count": 29,
   "id": "94669f7a",
   "metadata": {},
   "outputs": [],
   "source": [
    "#Trapezoidal membership function\n",
    "trapmf = fuzz.trapmf(x,[0,2,8,10])"
   ]
  },
  {
   "cell_type": "code",
   "execution_count": 30,
   "id": "12853b47",
   "metadata": {},
   "outputs": [
    {
     "data": {
      "text/plain": [
       "<matplotlib.legend.Legend at 0x2c0c5f5dcd0>"
      ]
     },
     "execution_count": 30,
     "metadata": {},
     "output_type": "execute_result"
    },
    {
     "data": {
      "image/png": "[encoded data removed]",
      "text/plain": [
       "<Figure size 432x288 with 1 Axes>"
      ]
     },
     "metadata": {
      "needs_background": "light"
     },
     "output_type": "display_data"
    }
   ],
   "source": [
    "# 3 rows, 1 col, index from 1\n",
    "plt.subplot(311)\n",
    "plt.title(\"Fuzzy Membership Function\")\n",
    "plt.plot(x, trimf, label=\"Triangle\")\n",
    "plt.plot(x, trapmf, label=\"Trapezoidal\")\n",
    "plt.legend(loc=\"upper right\")"
   ]
  },
  {
   "cell_type": "markdown",
   "id": "af0bd905",
   "metadata": {},
   "source": [
    "**Basic sigmoid membership function**\n",
    "- x : independent variable\n",
    "- center : center value of the sigmoid\n",
    "- width_control : width of the sigmoidal region"
   ]
  },
  {
   "cell_type": "code",
   "execution_count": 7,
   "id": "71e4596a",
   "metadata": {},
   "outputs": [],
   "source": [
    "#Sigmoid membership function\n",
    "center = 5.0\n",
    "width_control = 2.0\n",
    "sigmf = fuzz.sigmf(x,center,width_control)"
   ]
  },
  {
   "cell_type": "markdown",
   "id": "7a56c60c",
   "metadata": {},
   "source": [
    "**S function**\n",
    "* x : independent variable\n",
    "* foot : where the function begins to clib from 0\n",
    "* ceiling : where the function levels off at 1"
   ]
  },
  {
   "cell_type": "code",
   "execution_count": 8,
   "id": "891f0565",
   "metadata": {},
   "outputs": [],
   "source": [
    "#S function\n",
    "foot = 1.0\n",
    "ceiling = 9.0\n",
    "smf = fuzz.smf(x, foot, ceiling)"
   ]
  },
  {
   "cell_type": "markdown",
   "id": "82d0eed1",
   "metadata": {},
   "source": [
    "**Z function**\n",
    "* x : independent variable\n",
    "* foot : where the function begins falling from 1 (ceiling in this case)\n",
    "* ceiling : where the function reattains 0 (foot in this case)"
   ]
  },
  {
   "cell_type": "code",
   "execution_count": 9,
   "id": "f98aa3bd",
   "metadata": {},
   "outputs": [],
   "source": [
    "# Z function\n",
    "zmf = fuzz.zmf(x, foot, ceiling)"
   ]
  },
  {
   "cell_type": "markdown",
   "id": "b3154b6a",
   "metadata": {},
   "source": [
    "**Pi function**\n",
    "* x : independent variable\n",
    "* left foot : where the function begins to climb from 0\n",
    "* left ceiling : where the function levels off at 1\n",
    "* right ceiling : where the function begins falling from 1\n",
    "* right foot : where the function reattains 0\n"
   ]
  },
  {
   "cell_type": "code",
   "execution_count": 10,
   "id": "74275c1b",
   "metadata": {},
   "outputs": [],
   "source": [
    "# Pi Function\n",
    "pimf = fuzz.pimf(x,0.0,4.0,5.0,10.0)"
   ]
  },
  {
   "cell_type": "code",
   "execution_count": 18,
   "id": "62a65382",
   "metadata": {},
   "outputs": [
    {
     "data": {
      "text/plain": [
       "<matplotlib.legend.Legend at 0x2c0c663bc40>"
      ]
     },
     "execution_count": 18,
     "metadata": {},
     "output_type": "execute_result"
    },
    {
     "data": {
      "image/png": "[encoded data removed]",
      "text/plain": [
       "<Figure size 432x288 with 1 Axes>"
      ]
     },
     "metadata": {
      "needs_background": "light"
     },
     "output_type": "display_data"
    }
   ],
   "source": [
    "plt.subplot(312)\n",
    "plt.plot(x, sigmf, label=\"Sigmoid\")\n",
    "plt.plot(x, smf, label=\"S-function\")\n",
    "plt.plot(x, zmf, label=\"Z-function\")\n",
    "plt.plot(x, pimf, label=\"Pi-function\")\n",
    "plt.legend(loc=\"upper right\")"
   ]
  },
  {
   "cell_type": "markdown",
   "id": "ddda53c0",
   "metadata": {},
   "source": [
    "**Gaussion function**\n",
    "* x : independent variable\n",
    "* mean : center (mean) value\n",
    "* sigma : standard deviation "
   ]
  },
  {
   "cell_type": "code",
   "execution_count": 11,
   "id": "dbba73c4",
   "metadata": {},
   "outputs": [],
   "source": [
    "# Gaussian function\n",
    "mean = 5.0\n",
    "sigma = 1.25\n",
    "gaussmf = fuzz.gaussmf(x, mean, sigma)"
   ]
  },
  {
   "cell_type": "markdown",
   "id": "b99ad697",
   "metadata": {},
   "source": [
    "**Generalized Bell function**\n",
    "* x : independent variable\n",
    "* width\n",
    "* center\n",
    "* slope"
   ]
  },
  {
   "cell_type": "code",
   "execution_count": 13,
   "id": "00d6f3fe",
   "metadata": {},
   "outputs": [],
   "source": [
    "# Generalized bell-shaped function\n",
    "width =  2.0\n",
    "slope = 4.0\n",
    "center = 5.0\n",
    "gbellmf = fuzz.gbellmf(x, width, slope, center)\n"
   ]
  },
  {
   "cell_type": "code",
   "execution_count": 31,
   "id": "67f40a92",
   "metadata": {},
   "outputs": [
    {
     "data": {
      "text/plain": [
       "<matplotlib.legend.Legend at 0x2c0c6530130>"
      ]
     },
     "execution_count": 31,
     "metadata": {},
     "output_type": "execute_result"
    },
    {
     "data": {
      "image/png": "[encoded data removed]",
      "text/plain": [
       "<Figure size 432x288 with 1 Axes>"
      ]
     },
     "metadata": {
      "needs_background": "light"
     },
     "output_type": "display_data"
    }
   ],
   "source": [
    "plt.subplot(313)\n",
    "plt.plot(x, gaussmf, label=\"Gaussan\")\n",
    "plt.plot(x, gbellmf, label=\"Bell-Shaped\")\n",
    "plt.legend(loc=\"upper right\")"
   ]
  },
  {
   "cell_type": "code",
   "execution_count": null,
   "id": "642c2881",
   "metadata": {},
   "outputs": [],
   "source": []
  }
 ],
 "metadata": {
  "kernelspec": {
   "display_name": "Python 3 (ipykernel)",
   "language": "python",
   "name": "python3"
  },
  "language_info": {
   "codemirror_mode": {
    "name": "ipython",
    "version": 3
   },
   "file_extension": ".py",
   "mimetype": "text/x-python",
   "name": "python",
   "nbconvert_exporter": "python",
   "pygments_lexer": "ipython3",
   "version": "3.8.2"
  }
 },
 "nbformat": 4,
 "nbformat_minor": 5
}
